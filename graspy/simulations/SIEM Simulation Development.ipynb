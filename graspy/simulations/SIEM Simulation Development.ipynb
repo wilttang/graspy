{
 "cells": [
  {
   "cell_type": "code",
   "execution_count": 40,
   "metadata": {},
   "outputs": [],
   "source": [
    "import graspy \n",
    "\n",
    "import pandas as pd \n",
    "import matplotlib as plt \n",
    "import numpy as np \n",
    "\n",
    "\n",
    "x = np.array([[(0,0),(0,1),(0,2),(0,3)],[(1,0),(1,1),(1,2),(1,3)],[(2,0),(2,1),(2,2),(2,3)],[(3,0),(3,1),(3,2),(3,3)]])"
   ]
  },
  {
   "cell_type": "code",
   "execution_count": 53,
   "metadata": {},
   "outputs": [
    {
     "name": "stdout",
     "output_type": "stream",
     "text": [
      "[[[0 0]\n",
      "  [0 1]\n",
      "  [0 2]\n",
      "  [0 3]\n",
      "  [1 0]\n",
      "  [1 1]\n",
      "  [1 2]\n",
      "  [1 3]]\n",
      "\n",
      " [[2 0]\n",
      "  [2 1]\n",
      "  [2 2]\n",
      "  [2 3]\n",
      "  [3 0]\n",
      "  [3 1]\n",
      "  [3 2]\n",
      "  [3 3]]]\n"
     ]
    },
    {
     "ename": "AttributeError",
     "evalue": "'int' object has no attribute 'type'",
     "output_type": "error",
     "traceback": [
      "\u001b[0;31m---------------------------------------------------------------------------\u001b[0m",
      "\u001b[0;31mAttributeError\u001b[0m                            Traceback (most recent call last)",
      "\u001b[0;32m<ipython-input-53-64c248a68c3a>\u001b[0m in \u001b[0;36m<module>\u001b[0;34m\u001b[0m\n\u001b[1;32m      9\u001b[0m \u001b[0;34m\u001b[0m\u001b[0m\n\u001b[1;32m     10\u001b[0m \u001b[0mlen\u001b[0m\u001b[0;34m(\u001b[0m\u001b[0mk\u001b[0m\u001b[0;34m[\u001b[0m\u001b[0;36m1\u001b[0m\u001b[0;34m]\u001b[0m\u001b[0;34m)\u001b[0m\u001b[0;34m\u001b[0m\u001b[0;34m\u001b[0m\u001b[0m\n\u001b[0;32m---> 11\u001b[0;31m \u001b[0mn\u001b[0m\u001b[0;34m.\u001b[0m\u001b[0mtype\u001b[0m\u001b[0;34m\u001b[0m\u001b[0;34m\u001b[0m\u001b[0m\n\u001b[0m",
      "\u001b[0;31mAttributeError\u001b[0m: 'int' object has no attribute 'type'"
     ]
    }
   ],
   "source": [
    "n = 4 \n",
    "k = np.array([[(0,0),(0,1),(0,2),(0,3),(1,0),(1,1),(1,2),(1,3)],[(2,0),(2,1),(2,2),(2,3),(3,0),(3,1),(3,2),(3,3)]])\n",
    "\n",
    "print(k)\n",
    "#sum (each row of k is n^2)\\\n",
    "i = 0\n",
    "\n",
    "k.shape[0]\n",
    "\n",
    "len(k[1])"
   ]
  },
  {
   "cell_type": "code",
   "execution_count": 54,
   "metadata": {},
   "outputs": [
    {
     "data": {
      "text/plain": [
       "True"
      ]
     },
     "execution_count": 54,
     "metadata": {},
     "output_type": "execute_result"
    }
   ],
   "source": [
    "k.size/2 != n**2/2"
   ]
  },
  {
   "cell_type": "code",
   "execution_count": 42,
   "metadata": {},
   "outputs": [
    {
     "data": {
      "text/plain": [
       "(4, 4, 2)"
      ]
     },
     "execution_count": 42,
     "metadata": {},
     "output_type": "execute_result"
    }
   ],
   "source": [
    "x = np.array([[(0,0),(0,1),(0,2),(0,3)],[(1,0),(1,1),(1,2),(1,3)],[(2,0),(2,1),(2,2),(2,3)],[(3,0),(3,1),(3,2),(3,3)]])\n",
    "\n",
    "x.shape"
   ]
  },
  {
   "cell_type": "code",
   "execution_count": 12,
   "metadata": {},
   "outputs": [
    {
     "data": {
      "text/plain": [
       "(1, 2)"
      ]
     },
     "execution_count": 12,
     "metadata": {},
     "output_type": "execute_result"
    }
   ],
   "source": [
    "n_flat = np.ravel(n)\n",
    "print(n_flat)\n",
    "n_unflat = np.unravel_index(n_flat[4],shape = (1,2))\n",
    "print(n_unflat)\n",
    "np.unravel_index(6,(3,4))\n"
   ]
  },
  {
   "cell_type": "code",
   "execution_count": 66,
   "metadata": {},
   "outputs": [],
   "source": [
    "def siem(n, p,edge_comm, directed=False, loops=False, wt=None, wtargs=None):\n",
    "    \"\"\"\n",
    "    Samples a graph from the structured independent edge model (SIEM) \n",
    "\n",
    "    SIEM produces a graph with specified communities, in which each community can\n",
    "    have different sizes and edge probabilities. \n",
    "\n",
    "    Read more in the :ref:`tutorials <simulations_tutorials>`\n",
    "\n",
    "    Parameters\n",
    "    ----------\n",
    "    n: int\n",
    "        Number of vertices\n",
    "\n",
    "    p: list of int of length K (k_communities)\n",
    "        Probability of an edge existing within the corresponding communities, where p[i] indicates \n",
    "        the probability of an edge existing in the edge_comm[i]\n",
    "    \n",
    "    edge_comm: list of K tuples (k_communities)\n",
    "        tuple is the indices for the edge within the kth community.\n",
    "\n",
    "    directed: boolean, optional (default=False)\n",
    "        If False, output adjacency matrix will be symmetric. Otherwise, output adjacency\n",
    "        matrix will be asymmetric.\n",
    "\n",
    "    loops: boolean, optional (default=False)\n",
    "        If False, no edges will be sampled in the diagonal. Otherwise, edges\n",
    "        are sampled in the diagonal.\n",
    "\n",
    "    wt: object or list of K objects (k_communities)\n",
    "        if Wt is an object, a weight function to use globally over\n",
    "        the siem for assigning weights. If Wt is a list, a weight function for each of\n",
    "        the edge communities to use for connection strengths Wt[i] corresponds to the weight function\n",
    "        for edge community i. Default of None results in a binary graph\n",
    "\n",
    "    wtargs: dictionary or array-like, shape (k_communities)\n",
    "        if Wt is an object, Wtargs corresponds to the trailing arguments\n",
    "        to pass to the weight function. If Wt is an array-like, Wtargs[i, j] \n",
    "        corresponds to trailing arguments to pass to Wt[i, j].\n",
    "\n",
    "    return_labels: boolean, optional (default = False)\n",
    "        IF True, returns the edge-communities as well\n",
    "\n",
    "    References\n",
    "    ----------\n",
    "\n",
    "    Returns\n",
    "    -------\n",
    "    A: ndarray, shape (sum(n), sum(n))\n",
    "        Sampled adjacency matrix\n",
    "        \n",
    "    T: returns the edge-communities if return_labels == True\n",
    "\n",
    "    Examples\n",
    "    --------\n",
    "    >>> np.random.seed(1)\n",
    "    >>> n = [3, 3]\n",
    "    >>> p = [[0.5, 0.1], [0.1, 0.5]]\n",
    "\n",
    "    To sample a binary 2-block SBM graph:\n",
    "\n",
    "    >>> sbm(n, p)\n",
    "    array([[0., 0., 1., 0., 0., 0.],\n",
    "           [0., 0., 1., 0., 0., 1.],\n",
    "           [1., 1., 0., 0., 0., 0.],\n",
    "           [0., 0., 0., 0., 1., 0.],\n",
    "           [0., 0., 0., 1., 0., 0.],\n",
    "           [0., 1., 0., 0., 0., 0.]])\n",
    "\n",
    "    To sample a weighted 2-block SBM graph with Poisson(2) distribution:\n",
    "\n",
    "    >>> wt = np.random.poisson\n",
    "    >>> wtargs = dict(lam=2)\n",
    "    >>> sbm(n, p, wt=wt, wtargs=wtargs)\n",
    "    array([[0., 4., 0., 1., 0., 0.],\n",
    "           [4., 0., 0., 0., 0., 2.],\n",
    "           [0., 0., 0., 0., 0., 0.],\n",
    "           [1., 0., 0., 0., 0., 0.],\n",
    "           [0., 0., 0., 0., 0., 0.],\n",
    "           [0., 2., 0., 0., 0., 0.]])\n",
    "    \"\"\"\n",
    "    # Check n\n",
    "    if not isinstance(n, (int)):\n",
    "        msg = \"n must be a int, not {}.\".format(type(n))\n",
    "        raise TypeError(msg)\n",
    "\n",
    "    # Check p\n",
    "    if not isinstance(p, (list, np.ndarray)):\n",
    "        msg = \"p must be a list or np.array, not {}.\".format(type(p))\n",
    "        raise TypeError(msg)\n",
    "    else:\n",
    "        p = np.array(p)\n",
    "        if not np.issubdtype(p.dtype, np.number):\n",
    "            msg = \"There are non-numeric elements in p\"\n",
    "            raise ValueError(msg)\n",
    "        elif np.any(p < 0) or np.any(p > 1):\n",
    "            msg = \"Values in p must be in between 0 and 1.\"\n",
    "            raise ValueError(msg)\n",
    "\n",
    "    # Check edge_comm \n",
    "    if not isinstance(edge_comm, (list,np.ndarray)):\n",
    "        msg = \"edge_comm must be a list of tuples of length K or a 2-d array of K tuples\"\n",
    "    else: \n",
    "        edge_comm = np.array(edge_comm)\n",
    "        #generate temporary adjacency matrix to check upper triangular?\n",
    "        if (directed == True) and (loops == True):\n",
    "            if edge_comm.size/2 != n**2 : \n",
    "                msg = \"Edge Communities and Number of Vertices Do Not Agree!\"\n",
    "                raise ValueError(msg)\n",
    "        elif (directed == True) and (loops == False): \n",
    "            if edge_comm.size/2 != n*(n-1)/2 : \n",
    "                msg = \"Edge Communities and Number of Vertices Do Not Agree!\"\n",
    "                raise ValueError(msg)            \n",
    "        elif (directed == False) and (loops == True):\n",
    "            #check symmetry ?\n",
    "            if edge_comm.size/2 != n*(n-1) : \n",
    "                msg = \"Edge Communities and Number of Vertices Do Not Agree!\"\n",
    "                raise ValueError(msg)            \n",
    "        elif (directed == False) and (loops == False): \n",
    "            #check symmetry ?\n",
    "            if edge_comm.size/2 != n**2/2 : \n",
    "                msg = \"Edge Communities and Number of Vertices Do Not Agree!\"\n",
    "                raise ValueError(msg)            \n",
    "            \n",
    "    # Check wt and wtargs\n",
    "    if (wt is not None) and (wtargs is not None): \n",
    "        if not callable(wt):\n",
    "            # if not object, check dimensions\n",
    "            if len(wt) != (edge_comm.shape[0]):\n",
    "                msg = \"wt must have size k, not {}\".format(wt.shape)\n",
    "                raise ValueError(msg)\n",
    "            if len(wtargs) != (edge_comm.shape[0]):\n",
    "                msg = \"wtargs must have size k , not {}\".format(wtargs.shape)\n",
    "                raise ValueError(msg)\n",
    "            # check if each element is a function\n",
    "            for element in wt.ravel():\n",
    "                if not callable(element):\n",
    "                    msg = \"{} is not a callable function.\".format(element)\n",
    "                    raise TypeError(msg)\n",
    "        else:\n",
    "            #extend the function to size of k \n",
    "            wt = np.full(edge_comm.shape[0], wt, dtype=object)\n",
    "            wtargs = np.full(edge_comm.shape[0], wtargs, dtype=object)\n",
    "\n",
    "    # Check directed\n",
    "    if not directed:\n",
    "        if np.any(p != p.T):\n",
    "            raise ValueError(\"Specified undirected, but P is directed.\")\n",
    "        if np.any(wt != wt.T):\n",
    "            raise ValueError(\"Specified undirected, but Wt is directed.\")\n",
    "        if np.any(wtargs != wtargs.T):\n",
    "            raise ValueError(\"Specified undirected, but Wtargs is directed.\")\n",
    "\n",
    "    K = edge_comm.shape[0]  # the number of communities\n",
    "    counter = 0\n",
    "#     # get a list of community indices\n",
    "#     cmties = []\n",
    "#     for i in range(0, K):\n",
    "#         cmties.append(range(counter, counter + n[i]))\n",
    "#         counter += n[i]\n",
    "\n",
    "    # End Checks, begin simulation\n",
    "    A = np.zeros((n,n))\n",
    "    \n",
    "    for i in range(0, K):\n",
    "        #sample edges randomly \n",
    "        A[i,:] = np.random.binomial(len(edge_comm[i]),p[i])\n",
    "        \n",
    "        #adjust adjacency matrix with any weight args. \n",
    "        if (wt is not None) and (wtargs is not None): \n",
    "            A[i,:] = A[i,:]*wt[i](**wtargs[i])\n",
    "        \n",
    "    if not directed:\n",
    "        A = A + A.T - diag(A)\n",
    "   \n",
    "#     if not loops:\n",
    "#         A = A - np.diag(np.diag(A))\n",
    "#     if not directed:\n",
    "#         A = symmetrize(A, method=\"triu\")\n",
    "    return A\n"
   ]
  },
  {
   "cell_type": "code",
   "execution_count": 67,
   "metadata": {},
   "outputs": [
    {
     "data": {
      "text/plain": [
       "array([[6., 6., 6., 6.],\n",
       "       [2., 2., 2., 2.],\n",
       "       [0., 0., 0., 0.],\n",
       "       [0., 0., 0., 0.]])"
      ]
     },
     "execution_count": 67,
     "metadata": {},
     "output_type": "execute_result"
    }
   ],
   "source": [
    "siem(n = 4, p = [0.5,0.5,0.5,0.5,0.5,0.5,0.5,0.5] , edge_comm = k, directed = True, loops = True)"
   ]
  },
  {
   "cell_type": "code",
   "execution_count": null,
   "metadata": {},
   "outputs": [],
   "source": []
  }
 ],
 "metadata": {
  "kernelspec": {
   "display_name": "Python 3",
   "language": "python",
   "name": "python3"
  },
  "language_info": {
   "codemirror_mode": {
    "name": "ipython",
    "version": 3
   },
   "file_extension": ".py",
   "mimetype": "text/x-python",
   "name": "python",
   "nbconvert_exporter": "python",
   "pygments_lexer": "ipython3",
   "version": "3.6.8"
  }
 },
 "nbformat": 4,
 "nbformat_minor": 2
}
